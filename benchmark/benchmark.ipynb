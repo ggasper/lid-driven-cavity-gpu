{
 "cells": [
  {
   "cell_type": "markdown",
   "metadata": {},
   "source": [
    "# Execute all versions of lid driven cavity problem"
   ]
  },
  {
   "cell_type": "code",
   "execution_count": 10,
   "metadata": {},
   "outputs": [
    {
     "data": {
      "text/plain": [
       "[0.02, 0.018, 0.016, 0.014, 0.012, 0.01, 0.008]"
      ]
     },
     "execution_count": 10,
     "metadata": {},
     "output_type": "execute_result"
    }
   ],
   "source": [
    "from pathlib import Path\n",
    "from xml.etree import ElementTree\n",
    "path = \"bin\"\n",
    "programs = {\n",
    "    \"Lid driven cavity\": \"lidDriven\",\n",
    "    \"Lid driven cavity GPU\": \"lidDrivenGPU\"\n",
    "}\n",
    "hs = [h/1000.0 for h in range(20, 6, -2)]"
   ]
  },
  {
   "cell_type": "markdown",
   "metadata": {},
   "source": [
    "Create parameter files"
   ]
  },
  {
   "cell_type": "code",
   "execution_count": 18,
   "metadata": {},
   "outputs": [],
   "source": [
    "parameter_path = Path(\"..\", \"params\")\n",
    "default_param = parameter_path / \"chanelFlow.xml\"\n",
    "for name, program in programs.items():\n",
    "    params = ElementTree.parse(default_param)\n",
    "    root = params.getroot()\n",
    "    for h in hs:\n",
    "        num_xml = root.find(\"./num\")\n",
    "        num_xml.set('h', str(h))\n",
    "        output = root.find(\"./output\")\n",
    "        output.set(\"use_xml_name\", str(1))\n",
    "        output.set(\"hdf5_name\", f\"benchmark/{program}_{int(h*1000):0>2}_results.h5\")\n",
    "        params.write(parameter_path / f\"benchmark/chanelFlow_{program}_{int(h*1000):0>2}.xml\")"
   ]
  },
  {
   "cell_type": "markdown",
   "metadata": {},
   "source": [
    "Run program for every parameter file"
   ]
  },
  {
   "cell_type": "code",
   "execution_count": 20,
   "metadata": {},
   "outputs": [
    {
     "name": "stdout",
     "output_type": "stream",
     "text": [
      "Executing Lid driven cavity for h = 0.02\n",
      "h:0.02, N: 2277, dt:0.1\n",
      "10 - t:1 max u_y:0.0234295 @ x:0.0908523  (max div:6.06618)\n",
      "20 - t:2 max u_y:0.0252587 @ x:0.128638  (max div:3.6495)\n",
      "30 - t:3 max u_y:0.0311025 @ x:0.204768  (max div:1.77669)\n",
      "40 - t:4 max u_y:0.0379845 @ x:0.204768  (max div:0.885512)\n",
      "50 - t:5 max u_y:0.0461333 @ x:0.377819  (max div:0.672332)\n",
      "60 - t:6 max u_y:0.0723569 @ x:0.53903  (max div:0.41808)\n",
      "70 - t:7 max u_y:0.12304 @ x:0.53903  (max div:0.322734)\n",
      "80 - t:8 max u_y:0.154041 @ x:0.479766  (max div:0.305433)\n",
      "90 - t:9 max u_y:0.183781 @ x:0.455599  (max div:0.241322)\n",
      "100 - t:10 max u_y:0.196802 @ x:0.455599  (max div:0.201558)\n",
      "110 - t:11 max u_y:0.210226 @ x:0.377819  (max div:0.163063)\n",
      "120 - t:12 max u_y:0.227005 @ x:0.377819  (max div:0.121454)\n",
      "130 - t:13 max u_y:0.233739 @ x:0.377819  (max div:0.0984679)\n",
      "140 - t:14 max u_y:0.240554 @ x:0.341837  (max div:0.0999758)\n",
      "150 - t:15 max u_y:0.247877 @ x:0.321885  (max div:0.115578)\n",
      "160 - t:16 max u_y:0.25553 @ x:0.301947  (max div:0.102194)\n",
      "170 - t:17 max u_y:0.260835 @ x:0.301947  (max div:0.0922833)\n",
      "180 - t:18 max u_y:0.266249 @ x:0.281963  (max div:0.106576)\n",
      "190 - t:19 max u_y:0.271347 @ x:0.281963  (max div:0.0858162)\n",
      "200 - t:20 max u_y:0.275947 @ x:0.261963  (max div:0.0890517)\n",
      "210 - t:21 max u_y:0.279702 @ x:0.261963  (max div:0.0983802)\n",
      "220 - t:22 max u_y:0.284238 @ x:0.242004  (max div:0.0827973)\n",
      "230 - t:23 max u_y:0.288525 @ x:0.224185  (max div:0.0880517)\n",
      "240 - t:24 max u_y:0.291922 @ x:0.224185  (max div:0.0748575)\n",
      "250 - t:25 max u_y:0.294431 @ x:0.224185  (max div:0.0571967)\n",
      "260 - t:26 max u_y:0.296506 @ x:0.224185  (max div:0.0889562)\n",
      "270 - t:27 max u_y:0.299028 @ x:0.224185  (max div:0.083322)\n",
      "280 - t:28 max u_y:0.301313 @ x:0.204768  (max div:0.0982404)\n",
      "290 - t:29 max u_y:0.302963 @ x:0.204768  (max div:0.0794709)\n",
      "300 - t:30 max u_y:0.304298 @ x:0.204768  (max div:0.0453648)\n",
      "310 - t:31 max u_y:0.305351 @ x:0.204768  (max div:0.0938185)\n",
      "320 - t:32 max u_y:0.307039 @ x:0.204768  (max div:0.085282)\n",
      "330 - t:33 max u_y:0.308395 @ x:0.204768  (max div:0.056535)\n",
      "340 - t:34 max u_y:0.309045 @ x:0.204768  (max div:0.0911582)\n",
      "350 - t:35 max u_y:0.308822 @ x:0.204768  (max div:0.0800026)\n",
      "360 - t:36 max u_y:0.309125 @ x:0.204768  (max div:0.138567)\n",
      "370 - t:37 max u_y:0.309976 @ x:0.204768  (max div:0.145431)\n",
      "380 - t:38 max u_y:0.310831 @ x:0.204768  (max div:0.0582492)\n",
      "390 - t:39 max u_y:0.311006 @ x:0.204768  (max div:0.0960786)\n",
      "400 - t:40 max u_y:0.31035 @ x:0.204768  (max div:0.0856347)\n",
      "410 - t:41 max u_y:0.310247 @ x:0.204768  (max div:0.0739291)\n",
      "420 - t:42 max u_y:0.310659 @ x:0.204768  (max div:0.100528)\n",
      "430 - t:43 max u_y:0.311316 @ x:0.185356  (max div:0.0432684)\n",
      "440 - t:44 max u_y:0.311565 @ x:0.185356  (max div:0.160517)\n",
      "450 - t:45 max u_y:0.311317 @ x:0.185356  (max div:0.100382)\n",
      "460 - t:46 max u_y:0.310985 @ x:0.185356  (max div:0.101572)\n",
      "470 - t:47 max u_y:0.310848 @ x:0.185356  (max div:0.0963042)\n",
      "480 - t:48 max u_y:0.311472 @ x:0.185356  (max div:0.101765)\n",
      "490 - t:49 max u_y:0.312035 @ x:0.185356  (max div:0.0663301)\n",
      "500 - t:50 max u_y:0.311823 @ x:0.185356  (max div:0.0861124)\n",
      "Executing Lid driven cavity GPU for h = 0.02\n",
      "/bin/bash: line 1: ../bin/lidDrivenGPU: No such file or directory\n"
     ]
    }
   ],
   "source": [
    "for name, program in programs.items():\n",
    "    for h in hs:\n",
    "        param_path = Path(\"..\", \"params\", \"benchmark\", f\"chanelFlow_{program}_{int(h*1000):0>2}.xml\")\n",
    "        program_path = Path(\"..\", \"bin\", program)\n",
    "        output_path = Path(\"..\", \"benchmark\", f\"{program}_{int(h*1000):0>2}_results.h5\")\n",
    "        if Path.exists(output_path):\n",
    "            continue\n",
    "        print(\"Executing\", name, \"for h =\", h)\n",
    "        !../bin/{program} {param_path} \n"
   ]
  },
  {
   "cell_type": "code",
   "execution_count": 3,
   "metadata": {},
   "outputs": [
    {
     "data": {
      "text/plain": [
       "'/home/ggolob/lid-driven-cavity-gpu/benchmark'"
      ]
     },
     "execution_count": 3,
     "metadata": {},
     "output_type": "execute_result"
    }
   ],
   "source": [
    "import os\n",
    "os.getcwd()"
   ]
  }
 ],
 "metadata": {
  "kernelspec": {
   "display_name": ".venv",
   "language": "python",
   "name": "python3"
  },
  "language_info": {
   "codemirror_mode": {
    "name": "ipython",
    "version": 3
   },
   "file_extension": ".py",
   "mimetype": "text/x-python",
   "name": "python",
   "nbconvert_exporter": "python",
   "pygments_lexer": "ipython3",
   "version": "3.10.12"
  }
 },
 "nbformat": 4,
 "nbformat_minor": 2
}
